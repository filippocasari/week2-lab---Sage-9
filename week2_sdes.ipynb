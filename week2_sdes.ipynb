{
 "cells": [
  {
   "cell_type": "markdown",
   "metadata": {},
   "source": [
    "# Implementing Simplified DES (SDES) with SAGE"
   ]
  },
  {
   "cell_type": "code",
   "execution_count": 93,
   "metadata": {},
   "outputs": [],
   "source": [
    "# Note: make sure to run this cell first\n",
    "import ipywidgets as widgets"
   ]
  },
  {
   "cell_type": "code",
   "execution_count": 94,
   "metadata": {},
   "outputs": [
    {
     "data": {
      "application/vnd.jupyter.widget-view+json": {
       "model_id": "43718f43458d4bfbba0a36b99a005a5a",
       "version_major": 2,
       "version_minor": 0
      },
      "text/plain": [
       "Image(value=b'\\x89PNG\\r\\n\\x1a\\n\\x00\\x00\\x00\\rIHDR\\x00\\x00\\x0c\\x9c\\x00\\x00\\t#\\x08\\x06\\x00\\x00\\x00\\xfe\\xa6\\xb4\\x…"
      ]
     },
     "metadata": {},
     "output_type": "display_data"
    }
   ],
   "source": [
    "widgets.Image(\n",
    "    value=open(\"sdes.png\",\"rb\").read(),\n",
    "    width='100%'\n",
    ")"
   ]
  },
  {
   "cell_type": "markdown",
   "metadata": {},
   "source": [
    "# 1 Definitions and Helper Methods"
   ]
  },
  {
   "cell_type": "markdown",
   "metadata": {},
   "source": [
    "## 1.a TODO: Expansions and Permutations"
   ]
  },
  {
   "cell_type": "code",
   "execution_count": 95,
   "metadata": {},
   "outputs": [],
   "source": [
    "# The Expansions/Permutations are stored as lists of bit positions\n",
    "\n",
    "# TODO\n",
    "# Please replace the \"*\" according to the \n",
    "# description of S-DES (see \"S-DES Handout.pdf\"\n",
    "# as well as appendix G.4, \"Simplified DES\").\n",
    "P10_data = [3, 5, 2, 7, 4, 10, 1, 9, 8, 6];\n",
    "P8_data = [6, 3, 7, 4, 8, 5, 10, 9];\n",
    "LS1_data = [2, 3, 4, 5, 1];\n",
    "LS2_data = [3, 4, 5, 1, 2];\n",
    "IP_data = [2, 6, 3, 1, 4, 8, 5, 7];\n",
    "IPinv_data = [4, 1, 3, 5, 7, 2, 8, 6];\n",
    "EP_data = [4, 1, 2, 3, 2, 3, 4, 1];\n",
    "P4_data = [2, 4, 3, 1];\n",
    "SW_data = [5, 6, 7, 8, 1, 2, 3, 4];"
   ]
  },
  {
   "cell_type": "markdown",
   "metadata": {},
   "source": [
    "## 1.b TODO: S-Boxes"
   ]
  },
  {
   "cell_type": "code",
   "execution_count": 96,
   "metadata": {},
   "outputs": [],
   "source": [
    "# SDES lookup tables\n",
    "\n",
    "# TODO\n",
    "# Please replace the \"*\" with numbers from 0-3, \n",
    "# according to the description of S-DES (see p.7\n",
    "# in appendix G.4, \"Simplified DES\").\n",
    "S0_data = [[1, 0, 3, 2],\n",
    "           [3, 2, 1, 0],\n",
    "           [0, 2, 1, 3],\n",
    "           [3, 1, 3, 2]];\n",
    "\n",
    "S1_data = [[0, 1, 2, 3],\n",
    "           [2, 0, 1, 3],\n",
    "           [3, 0, 1, 0],\n",
    "           [2, 1, 0, 3]];"
   ]
  },
  {
   "cell_type": "markdown",
   "metadata": {},
   "source": [
    "## 1.c Permutation Helper Method"
   ]
  },
  {
   "cell_type": "code",
   "execution_count": 97,
   "metadata": {},
   "outputs": [],
   "source": [
    "def ApplyPermutation(X, permutation):\n",
    "    r\"\"\"\n",
    "    This function takes a permutation list (list of bit positions.)\n",
    "    And outputs a bit list with the bits taken from X.\n",
    "    \"\"\"\n",
    "    return list(X[i-1] for i in permutation)"
   ]
  },
  {
   "cell_type": "markdown",
   "metadata": {},
   "source": [
    "## 1.d Substitution Helper Method"
   ]
  },
  {
   "cell_type": "code",
   "execution_count": 98,
   "metadata": {},
   "outputs": [],
   "source": [
    "def ApplySBox(X, SBox):\n",
    "    r\"\"\"\n",
    "    This function Applies the SDES SBox (by table look up)\n",
    "    \"\"\"\n",
    "    r = 2*X[0] + X[3];\n",
    "    c = 2*X[1] + X[2];\n",
    "    o = SBox[r][c]; \n",
    "    return [o & 2, o & 1];"
   ]
  },
  {
   "cell_type": "markdown",
   "metadata": {},
   "source": [
    "## 1.e Compute Permutations"
   ]
  },
  {
   "cell_type": "code",
   "execution_count": 99,
   "metadata": {},
   "outputs": [],
   "source": [
    "#\n",
    "# Each of these functions uses ApplyPermutation\n",
    "# and a permutation list to perform an SDES\n",
    "# Expansion/Permutation\n",
    "#\n",
    "def P10(X):\n",
    "    return ApplyPermutation(X, P10_data);\n",
    "\n",
    "def P8(X):\n",
    "    return ApplyPermutation(X, P8_data);\n",
    "\n",
    "def IP(X):\n",
    "    return ApplyPermutation(X, IP_data);\n",
    "\n",
    "def IPinv(X):\n",
    "    return ApplyPermutation(X, IPinv_data);\n",
    "\n",
    "def EP(X):\n",
    "    return ApplyPermutation(X, EP_data);\n",
    "\n",
    "def P4(X):\n",
    "    return ApplyPermutation(X, P4_data);\n",
    "\n",
    "def SW(X): \n",
    "    return ApplyPermutation(X, SW_data);\n",
    "\n",
    "def LS1(X):\n",
    "    return ApplyPermutation(X, LS1_data);\n",
    "\n",
    "def LS2(X):\n",
    "    return ApplyPermutation(X, LS2_data);"
   ]
  },
  {
   "cell_type": "markdown",
   "metadata": {},
   "source": [
    "## 1.f Compute S-Boxes"
   ]
  },
  {
   "cell_type": "code",
   "execution_count": 100,
   "metadata": {},
   "outputs": [],
   "source": [
    "# These two functions perform the SBox substitutions\n",
    "def S0(X):\n",
    "    return ApplySBox(X, S0_data);\n",
    "\n",
    "def S1(X):\n",
    "    return ApplySBox(X, S1_data);"
   ]
  },
  {
   "cell_type": "markdown",
   "metadata": {},
   "source": [
    "## 1.g Concatenate Two Blocks"
   ]
  },
  {
   "cell_type": "code",
   "execution_count": 101,
   "metadata": {},
   "outputs": [],
   "source": [
    "def concatenate(left, right):\n",
    "    r\"\"\"\n",
    "    Joins to bit lists together.\n",
    "    \"\"\"\n",
    "    ret = [left[j] for j in range(len(left))];\n",
    "    ret.extend(right);\n",
    "    return ret;"
   ]
  },
  {
   "cell_type": "markdown",
   "metadata": {},
   "source": [
    "## 1.h Return Left/Right Half Bits of a Block"
   ]
  },
  {
   "cell_type": "code",
   "execution_count": 102,
   "metadata": {},
   "outputs": [],
   "source": [
    "def LeftHalfBits(block):\n",
    "    r\"\"\"\n",
    "    Returns the left half bits from block.\n",
    "    \"\"\"\n",
    "    l = len(block);\n",
    "    return [block[j] for j in range(l/2)];\n",
    "\n",
    "def RightHalfBits(block):\n",
    "    r\"\"\"\n",
    "    Returns the right half bits from block.\n",
    "    \"\"\"\n",
    "    l = len(block);\n",
    "    return [block[j] for j in range(l/2, l)];"
   ]
  },
  {
   "cell_type": "markdown",
   "metadata": {},
   "source": [
    "## 1.i Compute XOR of Two Blocks"
   ]
  },
  {
   "cell_type": "code",
   "execution_count": 103,
   "metadata": {},
   "outputs": [],
   "source": [
    "def XorBlock(block1, block2):\n",
    "    r\"\"\"\n",
    "    Xors two blocks together.\n",
    "    \"\"\"\n",
    "    l = len(block1);\n",
    "    if (l != len(block2)):\n",
    "        raise (ValueError, \"XorBlock arguments must be same length\")\n",
    "    return [(block1[j]+block2[j]) % 2 for j in range(l)];\n"
   ]
  },
  {
   "cell_type": "markdown",
   "metadata": {},
   "source": [
    "# 2 Key Generation"
   ]
  },
  {
   "cell_type": "markdown",
   "metadata": {},
   "source": [
    "## 2.a TODO: Key Generation"
   ]
  },
  {
   "cell_type": "code",
   "execution_count": 104,
   "metadata": {},
   "outputs": [],
   "source": [
    "def SDESKeySchedule(K):\n",
    "    r\"\"\"\n",
    "    Expands an SDES Key (bit list) into the two round keys.\n",
    "    \"\"\"\n",
    "    K_after_P10 = P10(K);\n",
    "    \n",
    "    lefthalf = LeftHalfBits(K_after_P10);\n",
    "    \n",
    "    righthalf = RightHalfBits(K_after_P10);\n",
    "    \n",
    "    ls1_l, ls1_r=LS1(lefthalf), LS1(righthalf)\n",
    "    #print(ls1_l, ls1_r)\n",
    "    K1=P8(concatenate(left=ls1_l, right=ls1_r))\n",
    "    \n",
    "    K2=P8(concatenate(LS2(ls1_l), LS2(ls1_r)))\n",
    "    \n",
    "    \n",
    "    \n",
    "    #print(f\"K1= {K1}, K2={K2}\")\n",
    "    \n",
    "    \n",
    "    \n",
    "    return (K1,K2)"
   ]
  },
  {
   "cell_type": "code",
   "execution_count": 105,
   "metadata": {},
   "outputs": [
    {
     "data": {
      "text/plain": [
       "([1, 1, 0, 0, 1, 1, 1, 0], [1, 1, 0, 0, 1, 1, 0, 1])"
      ]
     },
     "execution_count": 105,
     "metadata": {},
     "output_type": "execute_result"
    }
   ],
   "source": [
    "SDESKeySchedule([1,1,1,0,0,0,1,1,0,1])"
   ]
  },
  {
   "cell_type": "markdown",
   "metadata": {},
   "source": [
    "## 2.b TODO: Compute F_K function"
   ]
  },
  {
   "cell_type": "code",
   "execution_count": 106,
   "metadata": {},
   "outputs": [],
   "source": [
    "def f_K(block, K):\n",
    "    r\"\"\"\n",
    "    Performs the f_K function supplied block and K.\n",
    "    \"\"\"\n",
    "    left = LeftHalfBits(block);\n",
    "    right= RightHalfBits(block);\n",
    "    ep=EP(right)\n",
    "    \n",
    "    \n",
    "    s0, s1=S0(LeftHalfBits(XorBlock(K, ep))), S1(RightHalfBits(XorBlock(K, ep)))\n",
    "    p4=P4(concatenate(s0,s1))\n",
    "    my_outputblock=concatenate(XorBlock(left, p4), right)\n",
    "    \n",
    "    return my_outputblock;"
   ]
  },
  {
   "cell_type": "code",
   "execution_count": 107,
   "metadata": {},
   "outputs": [
    {
     "data": {
      "text/plain": [
       "[1, 0, 0, 0, 0, 0, 0, 0]"
      ]
     },
     "execution_count": 107,
     "metadata": {},
     "output_type": "execute_result"
    }
   ],
   "source": [
    "f_K([0,0,0,0, 0,0,0,0],[0,0,0,0, 0,0,0,0])"
   ]
  },
  {
   "cell_type": "markdown",
   "metadata": {},
   "source": [
    "# 3 Encryption"
   ]
  },
  {
   "cell_type": "markdown",
   "metadata": {},
   "source": [
    "## 3.a TODO: Encrypting with SDES"
   ]
  },
  {
   "cell_type": "code",
   "execution_count": 108,
   "metadata": {},
   "outputs": [],
   "source": [
    "def SDESEncrypt(plaintext_block, K):\n",
    "    r\"\"\"\n",
    "    Performs a single SDES plaintext block encryption.\n",
    "    (Given plaintext and key as bit lists.)\n",
    "    \"\"\"\n",
    "    (K1, K2) = SDESKeySchedule(K)\n",
    "    \n",
    "    ip=IP(plaintext_block)\n",
    "    \n",
    "    out1=f_K(ip, K1)\n",
    "    \n",
    "    out2=SW(out1)\n",
    "    \n",
    "    out3=f_K(out2, K2)\n",
    "    \n",
    "    my_outputblock=IPinv(out3)\n",
    "    \n",
    "    \n",
    "    return my_outputblock;   "
   ]
  },
  {
   "cell_type": "markdown",
   "metadata": {},
   "source": [
    "# 4 Decryption"
   ]
  },
  {
   "cell_type": "markdown",
   "metadata": {},
   "source": [
    "## 4.a TODO: Decrypting with SDES"
   ]
  },
  {
   "cell_type": "code",
   "execution_count": 109,
   "metadata": {},
   "outputs": [],
   "source": [
    "def SDESDecrypt(ciphertext, K):\n",
    "    r\"\"\"\n",
    "    Performs a single SDES ciphertext block decryption.\n",
    "    (Given ciphertext and key as bit lists.)\n",
    "    \"\"\"\n",
    "    (K1, K2) = SDESKeySchedule(K);\n",
    "    ip=IP(ciphertext)\n",
    "    out1=f_K(ip, K2)\n",
    "    out2=SW(out1)\n",
    "    out3=f_K(out2, K1)\n",
    "    my_outputblock=IPinv(out3)\n",
    "    \n",
    "    \n",
    "    return my_outputblock;"
   ]
  },
  {
   "cell_type": "markdown",
   "metadata": {},
   "source": [
    "# 5 Testing Implementation"
   ]
  },
  {
   "cell_type": "markdown",
   "metadata": {},
   "source": [
    "## 5.a TODO: Test your implementation"
   ]
  },
  {
   "cell_type": "code",
   "execution_count": 111,
   "metadata": {},
   "outputs": [
    {
     "name": "stdout",
     "output_type": "stream",
     "text": [
      "Plaintextt: [0, 1, 1, 0, 1, 1, 0, 1]\n",
      "Ciphertext: [0, 1, 1, 1, 1, 0, 0, 0]\n",
      "Plaintext: [0, 1, 1, 0, 1, 1, 0, 1]\n",
      "Decrypted cipher text equals to plain text: True\n"
     ]
    }
   ],
   "source": [
    "plaintext = [0, 1, 1, 0, 1, 1, 0, 1]\n",
    "print(\"Plaintextt: \" + str(plaintext))\n",
    "\n",
    "K = [1,1,1,0,0,0,1,1,0,1]\n",
    "\n",
    "\n",
    "ciphertext = SDESEncrypt(plaintext, K)\n",
    "print(\"Ciphertext: \" + str(ciphertext))\n",
    "\n",
    "pp = SDESDecrypt(ciphertext, K)\n",
    "print(\"Plaintext: \" + str(pp))\n",
    "print(\"Decrypted cipher text equals to plain text: \" + str(pp == plaintext))"
   ]
  },
  {
   "cell_type": "markdown",
   "metadata": {},
   "source": [
    "## 3-DES"
   ]
  },
  {
   "cell_type": "code",
   "execution_count": 116,
   "metadata": {},
   "outputs": [
    {
     "name": "stdout",
     "output_type": "stream",
     "text": [
      "[0, 1, 1, 0, 1, 1, 0, 1]\n",
      "[0, 0, 1, 1, 1, 1, 0, 1]\n",
      "Decrypted cipher text equals to plain text: True\n"
     ]
    }
   ],
   "source": [
    "\n",
    "\n",
    "K2, K3=[1,1,1,0,0,0,1,1,0,1], [0,1,0,0,0,0,0,1,0,0]\n",
    "ciphertext = SDESEncrypt(plaintext, K)\n",
    "c2=SDESDecrypt(ciphertext, K2)\n",
    "c3=SDESEncrypt(c2, K3)\n",
    "print(plaintext)\n",
    "print(c3)\n",
    "c1=SDESDecrypt(c3, K3)\n",
    "c2=SDESEncrypt(c1, K2)\n",
    "pp2=SDESDecrypt(c2, K)\n",
    "\n",
    "\n",
    "print(\"Decrypted cipher text equals to plain text: \" + str(pp == pp2))\n"
   ]
  }
 ],
 "metadata": {
  "kernelspec": {
   "display_name": "SageMath 9.5",
   "language": "sage",
   "name": "SageMath-9.5"
  },
  "language_info": {
   "codemirror_mode": {
    "name": "ipython",
    "version": 3
   },
   "file_extension": ".py",
   "mimetype": "text/x-python",
   "name": "python",
   "nbconvert_exporter": "python",
   "pygments_lexer": "ipython3",
   "version": "3.9.9"
  }
 },
 "nbformat": 4,
 "nbformat_minor": 1
}
